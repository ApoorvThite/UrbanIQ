{
 "cells": [
  {
   "cell_type": "code",
   "execution_count": null,
   "id": "1630f5bd-cb39-4320-83b2-c8fb46e436ee",
   "metadata": {},
   "outputs": [],
   "source": [
    "from src.data_loader import load_image_tiles, load_population_data\n",
    "from src.preprocess import apply_labels\n",
    "\n",
    "images = load_image_tiles(\"data/raw\")\n",
    "pop_df = load_population_data(\"data/population/population.csv\")\n",
    "labeled_df = apply_labels(pop_df)\n",
    "\n",
    "print(labeled_df.head())"
   ]
  }
 ],
 "metadata": {
  "kernelspec": {
   "display_name": "",
   "name": ""
  },
  "language_info": {
   "name": ""
  }
 },
 "nbformat": 4,
 "nbformat_minor": 5
}
